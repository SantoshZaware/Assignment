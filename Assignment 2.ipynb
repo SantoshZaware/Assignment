{
 "cells": [
  {
   "cell_type": "markdown",
   "id": "5ef61e3d",
   "metadata": {},
   "source": [
    "# 1st Senario (we have certain condition to repeat several times)"
   ]
  },
  {
   "cell_type": "code",
   "execution_count": 1,
   "id": "d97c7ad1",
   "metadata": {},
   "outputs": [
    {
     "name": "stdout",
     "output_type": "stream",
     "text": [
      "Python is Awesome\n",
      "Python is Awesome\n",
      "Python is Awesome\n",
      "Python is Awesome\n",
      "Python is Awesome\n",
      "Python is Awesome\n",
      "Python is Awesome\n",
      "Python is Awesome\n",
      "Python is Awesome\n",
      "Python is Awesome\n",
      "Python is Awesome\n",
      "Python is Awesome\n",
      "Python is Awesome\n",
      "Python is Awesome\n",
      "Python is Awesome\n",
      "Python is Awesome\n",
      "Python is Awesome\n",
      "Python is Awesome\n",
      "Python is Awesome\n",
      "Python is Awesome\n",
      "Python is Awesome\n",
      "Python is Awesome\n",
      "Python is Awesome\n",
      "Python is Awesome\n",
      "Python is Awesome\n",
      "Python is Awesome\n",
      "Python is Awesome\n",
      "Python is Awesome\n",
      "Python is Awesome\n",
      "Python is Awesome\n",
      "Python is Awesome\n",
      "Python is Awesome\n",
      "Python is Awesome\n",
      "Python is Awesome\n",
      "Python is Awesome\n",
      "Python is Awesome\n",
      "Python is Awesome\n",
      "Python is Awesome\n",
      "Python is Awesome\n",
      "Python is Awesome\n",
      "Python is Awesome\n",
      "Python is Awesome\n",
      "Python is Awesome\n",
      "Python is Awesome\n",
      "Python is Awesome\n",
      "Python is Awesome\n",
      "Python is Awesome\n",
      "Python is Awesome\n",
      "Python is Awesome\n",
      "Python is Awesome\n",
      "Python is Awesome\n",
      "Python is Awesome\n",
      "Python is Awesome\n",
      "Python is Awesome\n",
      "Python is Awesome\n",
      "Python is Awesome\n",
      "Python is Awesome\n",
      "Python is Awesome\n",
      "Python is Awesome\n",
      "Python is Awesome\n",
      "Python is Awesome\n",
      "Python is Awesome\n",
      "Python is Awesome\n",
      "Python is Awesome\n",
      "Python is Awesome\n",
      "Python is Awesome\n",
      "Python is Awesome\n",
      "Python is Awesome\n",
      "Python is Awesome\n",
      "Python is Awesome\n",
      "Python is Awesome\n",
      "Python is Awesome\n",
      "Python is Awesome\n",
      "Python is Awesome\n",
      "Python is Awesome\n",
      "Python is Awesome\n",
      "Python is Awesome\n",
      "Python is Awesome\n",
      "Python is Awesome\n",
      "Python is Awesome\n",
      "Python is Awesome\n",
      "Python is Awesome\n",
      "Python is Awesome\n",
      "Python is Awesome\n",
      "Python is Awesome\n",
      "Python is Awesome\n",
      "Python is Awesome\n",
      "Python is Awesome\n",
      "Python is Awesome\n",
      "Python is Awesome\n",
      "Python is Awesome\n",
      "Python is Awesome\n",
      "Python is Awesome\n",
      "Python is Awesome\n",
      "Python is Awesome\n",
      "Python is Awesome\n",
      "Python is Awesome\n",
      "Python is Awesome\n",
      "Python is Awesome\n",
      "Python is Awesome\n",
      "Python is Awesome\n",
      "Python is Awesome\n",
      "Python is Awesome\n",
      "Python is Awesome\n",
      "Python is Awesome\n",
      "Python is Awesome\n",
      "Python is Awesome\n",
      "Python is Awesome\n",
      "Python is Awesome\n",
      "Python is Awesome\n",
      "Python is Awesome\n",
      "Python is Awesome\n",
      "Python is Awesome\n",
      "Python is Awesome\n",
      "Python is Awesome\n",
      "Python is Awesome\n",
      "Python is Awesome\n",
      "Python is Awesome\n",
      "Python is Awesome\n",
      "Python is Awesome\n",
      "Python is Awesome\n",
      "Python is Awesome\n",
      "Python is Awesome\n",
      "Python is Awesome\n",
      "Python is Awesome\n",
      "Python is Awesome\n",
      "Python is Awesome\n",
      "Python is Awesome\n",
      "Python is Awesome\n",
      "Python is Awesome\n",
      "Python is Awesome\n",
      "Python is Awesome\n",
      "Python is Awesome\n",
      "Python is Awesome\n",
      "Python is Awesome\n",
      "Python is Awesome\n",
      "Python is Awesome\n",
      "Python is Awesome\n",
      "Python is Awesome\n",
      "Python is Awesome\n",
      "Python is Awesome\n",
      "Python is Awesome\n",
      "Python is Awesome\n",
      "Python is Awesome\n",
      "Python is Awesome\n",
      "Python is Awesome\n",
      "Python is Awesome\n",
      "Python is Awesome\n",
      "Python is Awesome\n",
      "Python is Awesome\n",
      "Python is Awesome\n",
      "Python is Awesome\n",
      "Python is Awesome\n",
      "Python is Awesome\n",
      "Python is Awesome\n",
      "Python is Awesome\n",
      "Python is Awesome\n",
      "Python is Awesome\n",
      "Python is Awesome\n",
      "Python is Awesome\n",
      "Python is Awesome\n",
      "Python is Awesome\n",
      "Python is Awesome\n",
      "Python is Awesome\n",
      "Python is Awesome\n",
      "Python is Awesome\n",
      "Python is Awesome\n",
      "Python is Awesome\n",
      "Python is Awesome\n",
      "Python is Awesome\n",
      "Python is Awesome\n",
      "Python is Awesome\n",
      "Python is Awesome\n",
      "Python is Awesome\n",
      "Python is Awesome\n",
      "Python is Awesome\n",
      "Python is Awesome\n",
      "Python is Awesome\n",
      "Python is Awesome\n",
      "Python is Awesome\n",
      "Python is Awesome\n",
      "Python is Awesome\n",
      "Python is Awesome\n",
      "Python is Awesome\n",
      "Python is Awesome\n",
      "Python is Awesome\n",
      "Python is Awesome\n",
      "Python is Awesome\n",
      "Python is Awesome\n",
      "Python is Awesome\n",
      "Python is Awesome\n",
      "Python is Awesome\n",
      "Python is Awesome\n",
      "Python is Awesome\n",
      "Python is Awesome\n",
      "Python is Awesome\n",
      "Python is Awesome\n",
      "Python is Awesome\n",
      "Python is Awesome\n",
      "Python is Awesome\n",
      "Python is Awesome\n",
      "Python is Awesome\n",
      "Python is Awesome\n",
      "Python is Awesome\n",
      "Python is Awesome\n",
      "Python is Awesome\n",
      "Python is Awesome\n",
      "Python is Awesome\n",
      "Python is Awesome\n",
      "Python is Awesome\n",
      "Python is Awesome\n",
      "Python is Awesome\n",
      "Python is Awesome\n",
      "Python is Awesome\n",
      "Python is Awesome\n",
      "Python is Awesome\n",
      "Python is Awesome\n",
      "Python is Awesome\n",
      "Python is Awesome\n",
      "Python is Awesome\n",
      "Python is Awesome\n",
      "Python is Awesome\n",
      "Python is Awesome\n",
      "Python is Awesome\n",
      "Python is Awesome\n",
      "Python is Awesome\n",
      "Python is Awesome\n",
      "Python is Awesome\n",
      "Python is Awesome\n",
      "Python is Awesome\n",
      "Python is Awesome\n",
      "Python is Awesome\n",
      "Python is Awesome\n",
      "Python is Awesome\n",
      "Python is Awesome\n",
      "Python is Awesome\n",
      "Python is Awesome\n",
      "Python is Awesome\n",
      "Python is Awesome\n",
      "Python is Awesome\n",
      "Python is Awesome\n",
      "Python is Awesome\n",
      "Python is Awesome\n",
      "Python is Awesome\n",
      "Python is Awesome\n",
      "Python is Awesome\n",
      "Python is Awesome\n",
      "Python is Awesome\n",
      "Python is Awesome\n",
      "Python is Awesome\n",
      "Python is Awesome\n",
      "Python is Awesome\n",
      "Python is Awesome\n",
      "Python is Awesome\n",
      "Python is Awesome\n",
      "Python is Awesome\n",
      "Python is Awesome\n",
      "Python is Awesome\n",
      "Python is Awesome\n",
      "Python is Awesome\n",
      "Python is Awesome\n",
      "Python is Awesome\n",
      "Python is Awesome\n",
      "Python is Awesome\n",
      "Python is Awesome\n",
      "Python is Awesome\n",
      "Python is Awesome\n",
      "Python is Awesome\n",
      "Python is Awesome\n",
      "Python is Awesome\n",
      "Python is Awesome\n",
      "Python is Awesome\n",
      "Python is Awesome\n",
      "Python is Awesome\n",
      "Python is Awesome\n",
      "Python is Awesome\n",
      "Python is Awesome\n",
      "Python is Awesome\n",
      "Python is Awesome\n",
      "Python is Awesome\n",
      "Python is Awesome\n",
      "Python is Awesome\n",
      "Python is Awesome\n",
      "Python is Awesome\n",
      "Python is Awesome\n",
      "Python is Awesome\n",
      "Python is Awesome\n",
      "Python is Awesome\n",
      "Python is Awesome\n",
      "Python is Awesome\n",
      "Python is Awesome\n",
      "Python is Awesome\n",
      "Python is Awesome\n",
      "Python is Awesome\n",
      "Python is Awesome\n",
      "Python is Awesome\n",
      "Python is Awesome\n",
      "Python is Awesome\n",
      "Python is Awesome\n",
      "Python is Awesome\n",
      "Python is Awesome\n",
      "Python is Awesome\n",
      "Python is Awesome\n",
      "Python is Awesome\n",
      "Python is Awesome\n",
      "Python is Awesome\n",
      "Python is Awesome\n",
      "Python is Awesome\n",
      "Python is Awesome\n",
      "Python is Awesome\n",
      "Python is Awesome\n",
      "Python is Awesome\n",
      "Python is Awesome\n",
      "Python is Awesome\n",
      "Python is Awesome\n",
      "Python is Awesome\n",
      "Python is Awesome\n",
      "Python is Awesome\n",
      "Python is Awesome\n",
      "Python is Awesome\n",
      "Python is Awesome\n",
      "Python is Awesome\n",
      "Python is Awesome\n",
      "Python is Awesome\n",
      "Python is Awesome\n",
      "Python is Awesome\n",
      "Python is Awesome\n",
      "Python is Awesome\n",
      "Python is Awesome\n",
      "Python is Awesome\n",
      "Python is Awesome\n",
      "Python is Awesome\n",
      "Python is Awesome\n",
      "Python is Awesome\n",
      "Python is Awesome\n",
      "Python is Awesome\n",
      "Python is Awesome\n",
      "Python is Awesome\n",
      "Python is Awesome\n",
      "Python is Awesome\n",
      "Python is Awesome\n",
      "Python is Awesome\n",
      "Python is Awesome\n",
      "Python is Awesome\n",
      "Python is Awesome\n",
      "Python is Awesome\n",
      "Python is Awesome\n",
      "Python is Awesome\n",
      "Python is Awesome\n",
      "Python is Awesome\n",
      "Python is Awesome\n",
      "Python is Awesome\n",
      "Python is Awesome\n",
      "Python is Awesome\n",
      "Python is Awesome\n",
      "Python is Awesome\n",
      "Python is Awesome\n",
      "Python is Awesome\n",
      "Python is Awesome\n",
      "Python is Awesome\n",
      "Python is Awesome\n",
      "Python is Awesome\n",
      "Python is Awesome\n",
      "Python is Awesome\n",
      "Python is Awesome\n",
      "Python is Awesome\n",
      "Python is Awesome\n",
      "Python is Awesome\n",
      "Python is Awesome\n",
      "Python is Awesome\n",
      "Python is Awesome\n",
      "Python is Awesome\n",
      "Python is Awesome\n",
      "Python is Awesome\n",
      "Python is Awesome\n",
      "Python is Awesome\n",
      "Python is Awesome\n",
      "Python is Awesome\n",
      "Python is Awesome\n",
      "Python is Awesome\n",
      "Python is Awesome\n",
      "Python is Awesome\n",
      "Python is Awesome\n",
      "Python is Awesome\n",
      "Python is Awesome\n",
      "Python is Awesome\n",
      "Python is Awesome\n",
      "Python is Awesome\n",
      "Python is Awesome\n",
      "Python is Awesome\n",
      "Python is Awesome\n",
      "Python is Awesome\n",
      "Python is Awesome\n",
      "Python is Awesome\n",
      "Python is Awesome\n",
      "Python is Awesome\n",
      "Python is Awesome\n",
      "Python is Awesome\n",
      "Python is Awesome\n",
      "Python is Awesome\n",
      "Python is Awesome\n",
      "Python is Awesome\n",
      "Python is Awesome\n",
      "Python is Awesome\n",
      "Python is Awesome\n",
      "Python is Awesome\n",
      "Python is Awesome\n",
      "Python is Awesome\n",
      "Python is Awesome\n",
      "Python is Awesome\n",
      "Python is Awesome\n",
      "Python is Awesome\n",
      "Python is Awesome\n",
      "Python is Awesome\n",
      "Python is Awesome\n",
      "Python is Awesome\n",
      "Python is Awesome\n",
      "Python is Awesome\n",
      "Python is Awesome\n",
      "Python is Awesome\n",
      "Python is Awesome\n",
      "Python is Awesome\n",
      "Python is Awesome\n",
      "Python is Awesome\n",
      "Python is Awesome\n",
      "Python is Awesome\n",
      "Python is Awesome\n",
      "Python is Awesome\n",
      "Python is Awesome\n",
      "Python is Awesome\n",
      "Python is Awesome\n",
      "Python is Awesome\n",
      "Python is Awesome\n",
      "Python is Awesome\n",
      "Python is Awesome\n",
      "Python is Awesome\n",
      "Python is Awesome\n",
      "Python is Awesome\n",
      "Python is Awesome\n",
      "Python is Awesome\n",
      "Python is Awesome\n",
      "Python is Awesome\n",
      "Python is Awesome\n",
      "Python is Awesome\n",
      "Python is Awesome\n",
      "Python is Awesome\n",
      "Python is Awesome\n",
      "Python is Awesome\n",
      "Python is Awesome\n",
      "Python is Awesome\n",
      "Python is Awesome\n",
      "Python is Awesome\n",
      "Python is Awesome\n",
      "Python is Awesome\n",
      "Python is Awesome\n",
      "Python is Awesome\n",
      "Python is Awesome\n",
      "Python is Awesome\n",
      "Python is Awesome\n",
      "Python is Awesome\n",
      "Python is Awesome\n",
      "Python is Awesome\n",
      "Python is Awesome\n",
      "Python is Awesome\n",
      "Python is Awesome\n",
      "Python is Awesome\n",
      "Python is Awesome\n",
      "Python is Awesome\n",
      "Python is Awesome\n",
      "Python is Awesome\n",
      "Python is Awesome\n",
      "Python is Awesome\n",
      "Python is Awesome\n",
      "Python is Awesome\n",
      "Python is Awesome\n",
      "Python is Awesome\n",
      "Python is Awesome\n",
      "Python is Awesome\n",
      "Python is Awesome\n",
      "Python is Awesome\n",
      "Python is Awesome\n",
      "Python is Awesome\n",
      "Python is Awesome\n",
      "Python is Awesome\n",
      "Python is Awesome\n",
      "Python is Awesome\n",
      "Python is Awesome\n",
      "Python is Awesome\n",
      "Python is Awesome\n",
      "Python is Awesome\n",
      "Python is Awesome\n",
      "Python is Awesome\n",
      "Python is Awesome\n",
      "Python is Awesome\n",
      "Python is Awesome\n",
      "Python is Awesome\n",
      "Python is Awesome\n",
      "Python is Awesome\n",
      "Python is Awesome\n",
      "Python is Awesome\n",
      "Python is Awesome\n",
      "Python is Awesome\n",
      "Python is Awesome\n",
      "Python is Awesome\n",
      "Python is Awesome\n",
      "Python is Awesome\n",
      "Python is Awesome\n",
      "Python is Awesome\n",
      "Python is Awesome\n",
      "Python is Awesome\n",
      "Python is Awesome\n",
      "Python is Awesome\n",
      "Python is Awesome\n",
      "Python is Awesome\n",
      "Python is Awesome\n",
      "Python is Awesome\n",
      "Python is Awesome\n",
      "Python is Awesome\n",
      "Python is Awesome\n",
      "Python is Awesome\n",
      "Python is Awesome\n",
      "Python is Awesome\n",
      "Python is Awesome\n",
      "Python is Awesome\n",
      "Python is Awesome\n",
      "Python is Awesome\n",
      "Python is Awesome\n",
      "Python is Awesome\n",
      "Python is Awesome\n",
      "Python is Awesome\n",
      "Python is Awesome\n",
      "Python is Awesome\n",
      "Python is Awesome\n",
      "Python is Awesome\n",
      "Python is Awesome\n",
      "Python is Awesome\n",
      "Python is Awesome\n",
      "Python is Awesome\n",
      "Python is Awesome\n",
      "Python is Awesome\n",
      "Python is Awesome\n",
      "Python is Awesome\n",
      "Python is Awesome\n",
      "Python is Awesome\n",
      "Python is Awesome\n",
      "Python is Awesome\n",
      "Python is Awesome\n",
      "Python is Awesome\n",
      "Python is Awesome\n",
      "Python is Awesome\n",
      "Python is Awesome\n",
      "Python is Awesome\n",
      "Python is Awesome\n",
      "Python is Awesome\n",
      "Python is Awesome\n"
     ]
    }
   ],
   "source": [
    "for i in range(555):\n",
    "    print(\"Python is Awesome\")"
   ]
  },
  {
   "cell_type": "code",
   "execution_count": 2,
   "id": "47ed512b",
   "metadata": {},
   "outputs": [
    {
     "name": "stdout",
     "output_type": "stream",
     "text": [
      "0\n",
      "1\n",
      "2\n",
      "3\n",
      "4\n",
      "5\n",
      "6\n",
      "7\n",
      "8\n",
      "9\n",
      "10\n"
     ]
    }
   ],
   "source": [
    "for number in range(11):\n",
    "    print(number)\n",
    "#it prints a sequence of numbers till 10.   "
   ]
  },
  {
   "cell_type": "code",
   "execution_count": 3,
   "id": "59241286",
   "metadata": {},
   "outputs": [
    {
     "name": "stdout",
     "output_type": "stream",
     "text": [
      "1\n",
      "2\n",
      "3\n",
      "4\n"
     ]
    }
   ],
   "source": [
    "for number in range(1,5):\n",
    "    print(number)\n",
    "# for starting with some assigned point and ending with perticular point    "
   ]
  },
  {
   "cell_type": "code",
   "execution_count": 4,
   "id": "b2745b3f",
   "metadata": {},
   "outputs": [
    {
     "name": "stdout",
     "output_type": "stream",
     "text": [
      "2\n",
      "4\n",
      "6\n",
      "8\n",
      "10\n"
     ]
    }
   ],
   "source": [
    "for number in range(2,11,2):\n",
    "    print(number)\n",
    "# for a sequence with some pattern     "
   ]
  },
  {
   "cell_type": "code",
   "execution_count": 5,
   "id": "b6ad0211",
   "metadata": {},
   "outputs": [
    {
     "name": "stdout",
     "output_type": "stream",
     "text": [
      "F\n",
      "e\n",
      "r\n",
      "g\n",
      "u\n",
      "s\n",
      "s\n",
      "o\n",
      "n\n",
      "_\n",
      "C\n",
      "o\n",
      "l\n",
      "l\n",
      "e\n",
      "g\n",
      "e\n"
     ]
    }
   ],
   "source": [
    "for character in \"Fergusson_College\":\n",
    "    print(character)    \n",
    "# printing the letters in a Word."
   ]
  },
  {
   "cell_type": "code",
   "execution_count": 6,
   "id": "c22fecd4",
   "metadata": {},
   "outputs": [],
   "source": [
    "#\"Modern_College\"[::2] #for printing alternate char\n",
    "#\"Modern_College\"[1:8:1]\n",
    "\n",
    "\n",
    "#v=\"Santosh\"\n",
    "#for i in v[::2]:\n",
    "#    print(i)"
   ]
  },
  {
   "cell_type": "markdown",
   "id": "10e2da77",
   "metadata": {},
   "source": [
    "# Nested for loops"
   ]
  },
  {
   "cell_type": "code",
   "execution_count": 7,
   "id": "8d1df551",
   "metadata": {},
   "outputs": [
    {
     "name": "stdout",
     "output_type": "stream",
     "text": [
      "1 A\n",
      "1 B\n",
      "1 C\n",
      "2 A\n",
      "2 B\n",
      "2 C\n"
     ]
    }
   ],
   "source": [
    "for outer_loop_number in range(1,3):\n",
    "    for inner_loop_character in \"ABC\":\n",
    "        print(outer_loop_number,inner_loop_character)"
   ]
  },
  {
   "cell_type": "markdown",
   "id": "4f1f9942",
   "metadata": {},
   "source": [
    "# 2nd Senario(we have some condition to verify i.e the stopping criterion)"
   ]
  },
  {
   "cell_type": "code",
   "execution_count": 8,
   "id": "9694418d",
   "metadata": {},
   "outputs": [
    {
     "name": "stdout",
     "output_type": "stream",
     "text": [
      "0\n",
      "1\n",
      "2\n",
      "3\n",
      "4\n",
      "5\n",
      "6\n",
      "7\n",
      "8\n",
      "9\n"
     ]
    }
   ],
   "source": [
    "n=0\n",
    "while(n<10):\n",
    "    print(n)\n",
    "    n=n+1\n",
    "# here it executes the code till the condition n<10 is true.    "
   ]
  },
  {
   "cell_type": "markdown",
   "id": "71d3c19f",
   "metadata": {},
   "source": [
    "# Break "
   ]
  },
  {
   "cell_type": "code",
   "execution_count": 9,
   "id": "a09513a7",
   "metadata": {},
   "outputs": [],
   "source": [
    "list=[1,2,3,4,5,6,7,8,9]"
   ]
  },
  {
   "cell_type": "code",
   "execution_count": 10,
   "id": "6f370a40",
   "metadata": {},
   "outputs": [
    {
     "data": {
      "text/plain": [
       "[1, 2, 3, 4, 5, 6, 7, 8, 9]"
      ]
     },
     "execution_count": 10,
     "metadata": {},
     "output_type": "execute_result"
    }
   ],
   "source": [
    "list"
   ]
  },
  {
   "cell_type": "markdown",
   "id": "9724ee4e",
   "metadata": {},
   "source": [
    "# Access"
   ]
  },
  {
   "cell_type": "code",
   "execution_count": 11,
   "id": "13906098",
   "metadata": {},
   "outputs": [
    {
     "data": {
      "text/plain": [
       "7"
      ]
     },
     "execution_count": 11,
     "metadata": {},
     "output_type": "execute_result"
    }
   ],
   "source": [
    "list[6]"
   ]
  },
  {
   "cell_type": "code",
   "execution_count": 12,
   "id": "e6e24af3",
   "metadata": {},
   "outputs": [
    {
     "data": {
      "text/plain": [
       "6"
      ]
     },
     "execution_count": 12,
     "metadata": {},
     "output_type": "execute_result"
    }
   ],
   "source": [
    "list[-4]"
   ]
  },
  {
   "cell_type": "markdown",
   "id": "12d2e33a",
   "metadata": {},
   "source": [
    "# slicing"
   ]
  },
  {
   "cell_type": "code",
   "execution_count": 13,
   "id": "8410f27d",
   "metadata": {},
   "outputs": [
    {
     "data": {
      "text/plain": [
       "[1, 3, 5, 7, 9]"
      ]
     },
     "execution_count": 13,
     "metadata": {},
     "output_type": "execute_result"
    }
   ],
   "source": [
    "list[::2]"
   ]
  },
  {
   "cell_type": "code",
   "execution_count": 14,
   "id": "245b7a47",
   "metadata": {},
   "outputs": [
    {
     "data": {
      "text/plain": [
       "[3, 4, 5]"
      ]
     },
     "execution_count": 14,
     "metadata": {},
     "output_type": "execute_result"
    }
   ],
   "source": [
    "list[2:5:1]"
   ]
  },
  {
   "cell_type": "code",
   "execution_count": 15,
   "id": "6f47f250",
   "metadata": {},
   "outputs": [
    {
     "data": {
      "text/plain": [
       "[3, 4, 5, 6, 7]"
      ]
     },
     "execution_count": 15,
     "metadata": {},
     "output_type": "execute_result"
    }
   ],
   "source": [
    "list[2:-2]"
   ]
  },
  {
   "cell_type": "code",
   "execution_count": 16,
   "id": "bd3c16c8",
   "metadata": {},
   "outputs": [
    {
     "data": {
      "text/plain": [
       "[9, 8, 7, 6, 5, 4, 3, 2, 1]"
      ]
     },
     "execution_count": 16,
     "metadata": {},
     "output_type": "execute_result"
    }
   ],
   "source": [
    "list[::-1]"
   ]
  },
  {
   "cell_type": "code",
   "execution_count": 17,
   "id": "81034d29",
   "metadata": {},
   "outputs": [
    {
     "data": {
      "text/plain": [
       "[1, 2, 3, 4, 5, 6, 7, 8, 9]"
      ]
     },
     "execution_count": 17,
     "metadata": {},
     "output_type": "execute_result"
    }
   ],
   "source": [
    "list[::]"
   ]
  },
  {
   "cell_type": "markdown",
   "id": "45b31015",
   "metadata": {},
   "source": [
    "# Appending"
   ]
  },
  {
   "cell_type": "code",
   "execution_count": 18,
   "id": "e295ba2b",
   "metadata": {},
   "outputs": [],
   "source": [
    "list.append(10)"
   ]
  },
  {
   "cell_type": "code",
   "execution_count": 19,
   "id": "6b19e1d6",
   "metadata": {},
   "outputs": [
    {
     "data": {
      "text/plain": [
       "[1, 2, 3, 4, 5, 6, 7, 8, 9, 10]"
      ]
     },
     "execution_count": 19,
     "metadata": {},
     "output_type": "execute_result"
    }
   ],
   "source": [
    "list"
   ]
  },
  {
   "cell_type": "code",
   "execution_count": 20,
   "id": "4c081f6b",
   "metadata": {},
   "outputs": [],
   "source": [
    "list.append([11,12])"
   ]
  },
  {
   "cell_type": "code",
   "execution_count": 21,
   "id": "1847df7b",
   "metadata": {},
   "outputs": [
    {
     "data": {
      "text/plain": [
       "[1, 2, 3, 4, 5, 6, 7, 8, 9, 10, [11, 12]]"
      ]
     },
     "execution_count": 21,
     "metadata": {},
     "output_type": "execute_result"
    }
   ],
   "source": [
    "list"
   ]
  },
  {
   "cell_type": "markdown",
   "id": "f080faa4",
   "metadata": {},
   "source": [
    "# Deleting"
   ]
  },
  {
   "cell_type": "code",
   "execution_count": 22,
   "id": "345aae29",
   "metadata": {},
   "outputs": [],
   "source": [
    "list.remove(4)"
   ]
  },
  {
   "cell_type": "code",
   "execution_count": 23,
   "id": "7f355be0",
   "metadata": {},
   "outputs": [
    {
     "data": {
      "text/plain": [
       "[1, 2, 3, 5, 6, 7, 8, 9, 10, [11, 12]]"
      ]
     },
     "execution_count": 23,
     "metadata": {},
     "output_type": "execute_result"
    }
   ],
   "source": [
    "list"
   ]
  },
  {
   "cell_type": "code",
   "execution_count": 24,
   "id": "a120d253",
   "metadata": {},
   "outputs": [],
   "source": [
    "del list[9]"
   ]
  },
  {
   "cell_type": "code",
   "execution_count": 25,
   "id": "5927764c",
   "metadata": {},
   "outputs": [
    {
     "data": {
      "text/plain": [
       "[1, 2, 3, 5, 6, 7, 8, 9, 10]"
      ]
     },
     "execution_count": 25,
     "metadata": {},
     "output_type": "execute_result"
    }
   ],
   "source": [
    "list"
   ]
  },
  {
   "cell_type": "code",
   "execution_count": 26,
   "id": "85cb6bbe",
   "metadata": {},
   "outputs": [],
   "source": [
    "list.extend([11,12,13,14])"
   ]
  },
  {
   "cell_type": "code",
   "execution_count": 27,
   "id": "22ec7e00",
   "metadata": {},
   "outputs": [
    {
     "data": {
      "text/plain": [
       "[1, 2, 3, 5, 6, 7, 8, 9, 10, 11, 12, 13, 14]"
      ]
     },
     "execution_count": 27,
     "metadata": {},
     "output_type": "execute_result"
    }
   ],
   "source": [
    "list"
   ]
  },
  {
   "cell_type": "markdown",
   "id": "b5074d64",
   "metadata": {},
   "source": [
    "# Searching a position of particuler number"
   ]
  },
  {
   "cell_type": "code",
   "execution_count": 28,
   "id": "cb5101cd",
   "metadata": {},
   "outputs": [
    {
     "data": {
      "text/plain": [
       "12"
      ]
     },
     "execution_count": 28,
     "metadata": {},
     "output_type": "execute_result"
    }
   ],
   "source": [
    "list.index(14)"
   ]
  },
  {
   "cell_type": "code",
   "execution_count": 29,
   "id": "18f1f9ca",
   "metadata": {},
   "outputs": [],
   "source": [
    "##inserting at perticuler position"
   ]
  },
  {
   "cell_type": "code",
   "execution_count": 30,
   "id": "ed697c52",
   "metadata": {},
   "outputs": [
    {
     "data": {
      "text/plain": [
       "False"
      ]
     },
     "execution_count": 30,
     "metadata": {},
     "output_type": "execute_result"
    }
   ],
   "source": [
    "90 in list"
   ]
  },
  {
   "cell_type": "code",
   "execution_count": 31,
   "id": "6bbc2c80",
   "metadata": {},
   "outputs": [
    {
     "data": {
      "text/plain": [
       "True"
      ]
     },
     "execution_count": 31,
     "metadata": {},
     "output_type": "execute_result"
    }
   ],
   "source": [
    "13 in list"
   ]
  },
  {
   "cell_type": "markdown",
   "id": "58de212b",
   "metadata": {},
   "source": [
    "# Iterate "
   ]
  },
  {
   "cell_type": "code",
   "execution_count": 32,
   "id": "3f934b29",
   "metadata": {},
   "outputs": [
    {
     "name": "stdout",
     "output_type": "stream",
     "text": [
      "1\n",
      "2\n",
      "3\n",
      "5\n",
      "6\n",
      "7\n",
      "8\n",
      "9\n",
      "10\n",
      "11\n",
      "12\n",
      "13\n",
      "14\n"
     ]
    }
   ],
   "source": [
    "for element in list:\n",
    "    print(element)"
   ]
  },
  {
   "cell_type": "code",
   "execution_count": 33,
   "id": "45c85bc0",
   "metadata": {},
   "outputs": [
    {
     "data": {
      "text/plain": [
       "13"
      ]
     },
     "execution_count": 33,
     "metadata": {},
     "output_type": "execute_result"
    }
   ],
   "source": [
    "len(list)"
   ]
  },
  {
   "cell_type": "code",
   "execution_count": 34,
   "id": "85b2549a",
   "metadata": {},
   "outputs": [],
   "source": [
    "list.reverse()"
   ]
  },
  {
   "cell_type": "code",
   "execution_count": 35,
   "id": "7749707b",
   "metadata": {},
   "outputs": [
    {
     "data": {
      "text/plain": [
       "[14, 13, 12, 11, 10, 9, 8, 7, 6, 5, 3, 2, 1]"
      ]
     },
     "execution_count": 35,
     "metadata": {},
     "output_type": "execute_result"
    }
   ],
   "source": [
    "list"
   ]
  },
  {
   "cell_type": "markdown",
   "id": "b9244cdc",
   "metadata": {},
   "source": [
    "# sorting the list (Ascending order)"
   ]
  },
  {
   "cell_type": "code",
   "execution_count": 36,
   "id": "09641e1e",
   "metadata": {},
   "outputs": [],
   "source": [
    "list.sort()"
   ]
  },
  {
   "cell_type": "code",
   "execution_count": 37,
   "id": "7ade863f",
   "metadata": {},
   "outputs": [
    {
     "data": {
      "text/plain": [
       "[1, 2, 3, 5, 6, 7, 8, 9, 10, 11, 12, 13, 14]"
      ]
     },
     "execution_count": 37,
     "metadata": {},
     "output_type": "execute_result"
    }
   ],
   "source": [
    "list"
   ]
  },
  {
   "cell_type": "markdown",
   "id": "45925358",
   "metadata": {},
   "source": [
    "# Homework"
   ]
  },
  {
   "cell_type": "code",
   "execution_count": 1,
   "id": "e749c8de",
   "metadata": {},
   "outputs": [
    {
     "name": "stdout",
     "output_type": "stream",
     "text": [
      "Enter Password: 5454654\n",
      "Wrong Password!!\n",
      "Enter Password: 1654654\n",
      "Wrong Password!!\n",
      "Enter Password: 65465\n",
      "Wrong Password!!\n",
      "One Trial Left!!!\n",
      "Enter Password: 11111\n",
      "Welcome to the python course!!\n"
     ]
    }
   ],
   "source": [
    "password=\"11111\"\n",
    "\n",
    "for trial in range(1,5):\n",
    "    \n",
    "    if trial==4:\n",
    "        print('One Trial Left!!!')\n",
    "        \n",
    "    enter_password=input(\"Enter Password: \")\n",
    "        \n",
    "    if enter_password==password:\n",
    "            print (\"Welcome to the python course!!\")\n",
    "            break\n",
    "            \n",
    "    else:\n",
    "            print(\"Wrong Password!!\")\n"
   ]
  },
  {
   "cell_type": "markdown",
   "id": "baae7275",
   "metadata": {},
   "source": [
    "# Homework"
   ]
  },
  {
   "cell_type": "code",
   "execution_count": 5,
   "id": "45b465d2",
   "metadata": {},
   "outputs": [],
   "source": [
    "student_marks=[['Name',   ['A','B','C','D','E']],\n",
    "               ['Aniket', [41 ,34, 45, 55, 63]],\n",
    "               ['Aravind',[42, 23, 34, 44, 53]],\n",
    "               ['Lakshy', [32, 23, 13, 54, 67]],\n",
    "               ['Gyan',   [23, 82, 23, 63, 34]],\n",
    "               ['Pranav', [21, 23, 25, 56, 56]]\n",
    "              ]\n"
   ]
  },
  {
   "cell_type": "code",
   "execution_count": 4,
   "id": "84f28ead",
   "metadata": {},
   "outputs": [
    {
     "data": {
      "text/plain": [
       "[['Name', ['A', 'B', 'C', 'D', 'E']],\n",
       " ['Aniket', [41, 34, 45, 55, 63]],\n",
       " ['Aravind', [42, 23, 34, 44, 53]],\n",
       " ['Lakshy', [32, 23, 13, 54, 67]],\n",
       " ['Gyan', [23, 82, 23, 63, 34]],\n",
       " ['Pranav', [21, 23, 25, 56, 56]]]"
      ]
     },
     "execution_count": 4,
     "metadata": {},
     "output_type": "execute_result"
    }
   ],
   "source": [
    "student_marks"
   ]
  },
  {
   "cell_type": "code",
   "execution_count": null,
   "id": "d70bab75",
   "metadata": {},
   "outputs": [],
   "source": [
    "if "
   ]
  }
 ],
 "metadata": {
  "kernelspec": {
   "display_name": "Python 3 (ipykernel)",
   "language": "python",
   "name": "python3"
  },
  "language_info": {
   "codemirror_mode": {
    "name": "ipython",
    "version": 3
   },
   "file_extension": ".py",
   "mimetype": "text/x-python",
   "name": "python",
   "nbconvert_exporter": "python",
   "pygments_lexer": "ipython3",
   "version": "3.9.12"
  }
 },
 "nbformat": 4,
 "nbformat_minor": 5
}
